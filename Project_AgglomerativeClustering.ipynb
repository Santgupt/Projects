{
  "nbformat": 4,
  "nbformat_minor": 0,
  "metadata": {
    "colab": {
      "name": "Project_AgglomerativeClustering.ipynb",
      "provenance": [],
      "authorship_tag": "ABX9TyNGPRgBuG7GeRAd/ve9ymu9",
      "include_colab_link": true
    },
    "kernelspec": {
      "name": "python3",
      "display_name": "Python 3"
    }
  },
  "cells": [
    {
      "cell_type": "markdown",
      "metadata": {
        "id": "view-in-github",
        "colab_type": "text"
      },
      "source": [
        "<a href=\"https://colab.research.google.com/github/Santgupt/Projects/blob/master/Project_AgglomerativeClustering.ipynb\" target=\"_parent\"><img src=\"https://colab.research.google.com/assets/colab-badge.svg\" alt=\"Open In Colab\"/></a>"
      ]
    },
    {
      "cell_type": "code",
      "metadata": {
        "id": "Qk072hGSfTgW"
      },
      "source": [
        "import pandas as pd"
      ],
      "execution_count": 1,
      "outputs": []
    },
    {
      "cell_type": "code",
      "metadata": {
        "id": "1B3FJpl9fjaV"
      },
      "source": [
        "df = pd.read_csv('general.csv')"
      ],
      "execution_count": 14,
      "outputs": []
    },
    {
      "cell_type": "code",
      "metadata": {
        "id": "ZACs095OhCe6",
        "outputId": "72397964-c574-4714-9c01-3472c3faa9da",
        "colab": {
          "base_uri": "https://localhost:8080/",
          "height": 215
        }
      },
      "source": [
        "df.head()"
      ],
      "execution_count": 15,
      "outputs": [
        {
          "output_type": "execute_result",
          "data": {
            "text/html": [
              "<div>\n",
              "<style scoped>\n",
              "    .dataframe tbody tr th:only-of-type {\n",
              "        vertical-align: middle;\n",
              "    }\n",
              "\n",
              "    .dataframe tbody tr th {\n",
              "        vertical-align: top;\n",
              "    }\n",
              "\n",
              "    .dataframe thead th {\n",
              "        text-align: right;\n",
              "    }\n",
              "</style>\n",
              "<table border=\"1\" class=\"dataframe\">\n",
              "  <thead>\n",
              "    <tr style=\"text-align: right;\">\n",
              "      <th></th>\n",
              "      <th>CUST_ID</th>\n",
              "      <th>BALANCE</th>\n",
              "      <th>BALANCE_FREQUENCY</th>\n",
              "      <th>PURCHASES</th>\n",
              "      <th>ONEOFF_PURCHASES</th>\n",
              "      <th>INSTALLMENTS_PURCHASES</th>\n",
              "      <th>CASH_ADVANCE</th>\n",
              "      <th>PURCHASES_FREQUENCY</th>\n",
              "      <th>ONEOFF_PURCHASES_FREQUENCY</th>\n",
              "      <th>PURCHASES_INSTALLMENTS_FREQUENCY</th>\n",
              "      <th>CASH_ADVANCE_FREQUENCY</th>\n",
              "      <th>CASH_ADVANCE_TRX</th>\n",
              "      <th>PURCHASES_TRX</th>\n",
              "      <th>CREDIT_LIMIT</th>\n",
              "      <th>PAYMENTS</th>\n",
              "      <th>MINIMUM_PAYMENTS</th>\n",
              "      <th>PRC_FULL_PAYMENT</th>\n",
              "      <th>TENURE</th>\n",
              "    </tr>\n",
              "  </thead>\n",
              "  <tbody>\n",
              "    <tr>\n",
              "      <th>0</th>\n",
              "      <td>C10001</td>\n",
              "      <td>40.900749</td>\n",
              "      <td>0.818182</td>\n",
              "      <td>95.40</td>\n",
              "      <td>0.00</td>\n",
              "      <td>95.4</td>\n",
              "      <td>0.000000</td>\n",
              "      <td>0.166667</td>\n",
              "      <td>0.000000</td>\n",
              "      <td>0.083333</td>\n",
              "      <td>0.000000</td>\n",
              "      <td>0</td>\n",
              "      <td>2</td>\n",
              "      <td>1000.0</td>\n",
              "      <td>201.802084</td>\n",
              "      <td>139.509787</td>\n",
              "      <td>0.000000</td>\n",
              "      <td>12</td>\n",
              "    </tr>\n",
              "    <tr>\n",
              "      <th>1</th>\n",
              "      <td>C10002</td>\n",
              "      <td>3202.467416</td>\n",
              "      <td>0.909091</td>\n",
              "      <td>0.00</td>\n",
              "      <td>0.00</td>\n",
              "      <td>0.0</td>\n",
              "      <td>6442.945483</td>\n",
              "      <td>0.000000</td>\n",
              "      <td>0.000000</td>\n",
              "      <td>0.000000</td>\n",
              "      <td>0.250000</td>\n",
              "      <td>4</td>\n",
              "      <td>0</td>\n",
              "      <td>7000.0</td>\n",
              "      <td>4103.032597</td>\n",
              "      <td>1072.340217</td>\n",
              "      <td>0.222222</td>\n",
              "      <td>12</td>\n",
              "    </tr>\n",
              "    <tr>\n",
              "      <th>2</th>\n",
              "      <td>C10003</td>\n",
              "      <td>2495.148862</td>\n",
              "      <td>1.000000</td>\n",
              "      <td>773.17</td>\n",
              "      <td>773.17</td>\n",
              "      <td>0.0</td>\n",
              "      <td>0.000000</td>\n",
              "      <td>1.000000</td>\n",
              "      <td>1.000000</td>\n",
              "      <td>0.000000</td>\n",
              "      <td>0.000000</td>\n",
              "      <td>0</td>\n",
              "      <td>12</td>\n",
              "      <td>7500.0</td>\n",
              "      <td>622.066742</td>\n",
              "      <td>627.284787</td>\n",
              "      <td>0.000000</td>\n",
              "      <td>12</td>\n",
              "    </tr>\n",
              "    <tr>\n",
              "      <th>3</th>\n",
              "      <td>C10004</td>\n",
              "      <td>1666.670542</td>\n",
              "      <td>0.636364</td>\n",
              "      <td>1499.00</td>\n",
              "      <td>1499.00</td>\n",
              "      <td>0.0</td>\n",
              "      <td>205.788017</td>\n",
              "      <td>0.083333</td>\n",
              "      <td>0.083333</td>\n",
              "      <td>0.000000</td>\n",
              "      <td>0.083333</td>\n",
              "      <td>1</td>\n",
              "      <td>1</td>\n",
              "      <td>7500.0</td>\n",
              "      <td>0.000000</td>\n",
              "      <td>NaN</td>\n",
              "      <td>0.000000</td>\n",
              "      <td>12</td>\n",
              "    </tr>\n",
              "    <tr>\n",
              "      <th>4</th>\n",
              "      <td>C10005</td>\n",
              "      <td>817.714335</td>\n",
              "      <td>1.000000</td>\n",
              "      <td>16.00</td>\n",
              "      <td>16.00</td>\n",
              "      <td>0.0</td>\n",
              "      <td>0.000000</td>\n",
              "      <td>0.083333</td>\n",
              "      <td>0.083333</td>\n",
              "      <td>0.000000</td>\n",
              "      <td>0.000000</td>\n",
              "      <td>0</td>\n",
              "      <td>1</td>\n",
              "      <td>1200.0</td>\n",
              "      <td>678.334763</td>\n",
              "      <td>244.791237</td>\n",
              "      <td>0.000000</td>\n",
              "      <td>12</td>\n",
              "    </tr>\n",
              "  </tbody>\n",
              "</table>\n",
              "</div>"
            ],
            "text/plain": [
              "  CUST_ID      BALANCE  ...  PRC_FULL_PAYMENT  TENURE\n",
              "0  C10001    40.900749  ...          0.000000      12\n",
              "1  C10002  3202.467416  ...          0.222222      12\n",
              "2  C10003  2495.148862  ...          0.000000      12\n",
              "3  C10004  1666.670542  ...          0.000000      12\n",
              "4  C10005   817.714335  ...          0.000000      12\n",
              "\n",
              "[5 rows x 18 columns]"
            ]
          },
          "metadata": {
            "tags": []
          },
          "execution_count": 15
        }
      ]
    },
    {
      "cell_type": "code",
      "metadata": {
        "id": "WZlhY7mbhFuL",
        "outputId": "05cb1882-2c81-4880-ac86-105e4eb621fe",
        "colab": {
          "base_uri": "https://localhost:8080/",
          "height": 34
        }
      },
      "source": [
        "df.shape"
      ],
      "execution_count": 17,
      "outputs": [
        {
          "output_type": "execute_result",
          "data": {
            "text/plain": [
              "(8950, 18)"
            ]
          },
          "metadata": {
            "tags": []
          },
          "execution_count": 17
        }
      ]
    },
    {
      "cell_type": "code",
      "metadata": {
        "id": "JU9dCbPqhI2b",
        "outputId": "9d135205-fe4e-4ee1-fec3-26132c5a339f",
        "colab": {
          "base_uri": "https://localhost:8080/",
          "height": 437
        }
      },
      "source": [
        "df.info()"
      ],
      "execution_count": 18,
      "outputs": [
        {
          "output_type": "stream",
          "text": [
            "<class 'pandas.core.frame.DataFrame'>\n",
            "RangeIndex: 8950 entries, 0 to 8949\n",
            "Data columns (total 18 columns):\n",
            " #   Column                            Non-Null Count  Dtype  \n",
            "---  ------                            --------------  -----  \n",
            " 0   CUST_ID                           8950 non-null   object \n",
            " 1   BALANCE                           8950 non-null   float64\n",
            " 2   BALANCE_FREQUENCY                 8950 non-null   float64\n",
            " 3   PURCHASES                         8950 non-null   float64\n",
            " 4   ONEOFF_PURCHASES                  8950 non-null   float64\n",
            " 5   INSTALLMENTS_PURCHASES            8950 non-null   float64\n",
            " 6   CASH_ADVANCE                      8950 non-null   float64\n",
            " 7   PURCHASES_FREQUENCY               8950 non-null   float64\n",
            " 8   ONEOFF_PURCHASES_FREQUENCY        8950 non-null   float64\n",
            " 9   PURCHASES_INSTALLMENTS_FREQUENCY  8950 non-null   float64\n",
            " 10  CASH_ADVANCE_FREQUENCY            8950 non-null   float64\n",
            " 11  CASH_ADVANCE_TRX                  8950 non-null   int64  \n",
            " 12  PURCHASES_TRX                     8950 non-null   int64  \n",
            " 13  CREDIT_LIMIT                      8949 non-null   float64\n",
            " 14  PAYMENTS                          8950 non-null   float64\n",
            " 15  MINIMUM_PAYMENTS                  8637 non-null   float64\n",
            " 16  PRC_FULL_PAYMENT                  8950 non-null   float64\n",
            " 17  TENURE                            8950 non-null   int64  \n",
            "dtypes: float64(14), int64(3), object(1)\n",
            "memory usage: 1.2+ MB\n"
          ],
          "name": "stdout"
        }
      ]
    },
    {
      "cell_type": "code",
      "metadata": {
        "id": "nfoBRIvEhN4c",
        "outputId": "f8b94251-4647-4ad2-aa4f-d44ae24e7fed",
        "colab": {
          "base_uri": "https://localhost:8080/",
          "height": 134
        }
      },
      "source": [
        "df.columns"
      ],
      "execution_count": 19,
      "outputs": [
        {
          "output_type": "execute_result",
          "data": {
            "text/plain": [
              "Index(['CUST_ID', 'BALANCE', 'BALANCE_FREQUENCY', 'PURCHASES',\n",
              "       'ONEOFF_PURCHASES', 'INSTALLMENTS_PURCHASES', 'CASH_ADVANCE',\n",
              "       'PURCHASES_FREQUENCY', 'ONEOFF_PURCHASES_FREQUENCY',\n",
              "       'PURCHASES_INSTALLMENTS_FREQUENCY', 'CASH_ADVANCE_FREQUENCY',\n",
              "       'CASH_ADVANCE_TRX', 'PURCHASES_TRX', 'CREDIT_LIMIT', 'PAYMENTS',\n",
              "       'MINIMUM_PAYMENTS', 'PRC_FULL_PAYMENT', 'TENURE'],\n",
              "      dtype='object')"
            ]
          },
          "metadata": {
            "tags": []
          },
          "execution_count": 19
        }
      ]
    },
    {
      "cell_type": "code",
      "metadata": {
        "id": "ItdDKxC1hX7Z"
      },
      "source": [
        "df=df.drop(\"CUST_ID\",axis=1)"
      ],
      "execution_count": 20,
      "outputs": []
    },
    {
      "cell_type": "code",
      "metadata": {
        "id": "fdJjAP8vhcZ9"
      },
      "source": [
        "df.fillna(method=\"ffill\",inplace=True)"
      ],
      "execution_count": 21,
      "outputs": []
    },
    {
      "cell_type": "code",
      "metadata": {
        "id": "YdYtdVtqhh5H",
        "outputId": "fe577850-b4c2-4fca-c78e-0b1da9ed8d28",
        "colab": {
          "base_uri": "https://localhost:8080/",
          "height": 420
        }
      },
      "source": [
        "df.info()"
      ],
      "execution_count": 22,
      "outputs": [
        {
          "output_type": "stream",
          "text": [
            "<class 'pandas.core.frame.DataFrame'>\n",
            "RangeIndex: 8950 entries, 0 to 8949\n",
            "Data columns (total 17 columns):\n",
            " #   Column                            Non-Null Count  Dtype  \n",
            "---  ------                            --------------  -----  \n",
            " 0   BALANCE                           8950 non-null   float64\n",
            " 1   BALANCE_FREQUENCY                 8950 non-null   float64\n",
            " 2   PURCHASES                         8950 non-null   float64\n",
            " 3   ONEOFF_PURCHASES                  8950 non-null   float64\n",
            " 4   INSTALLMENTS_PURCHASES            8950 non-null   float64\n",
            " 5   CASH_ADVANCE                      8950 non-null   float64\n",
            " 6   PURCHASES_FREQUENCY               8950 non-null   float64\n",
            " 7   ONEOFF_PURCHASES_FREQUENCY        8950 non-null   float64\n",
            " 8   PURCHASES_INSTALLMENTS_FREQUENCY  8950 non-null   float64\n",
            " 9   CASH_ADVANCE_FREQUENCY            8950 non-null   float64\n",
            " 10  CASH_ADVANCE_TRX                  8950 non-null   int64  \n",
            " 11  PURCHASES_TRX                     8950 non-null   int64  \n",
            " 12  CREDIT_LIMIT                      8950 non-null   float64\n",
            " 13  PAYMENTS                          8950 non-null   float64\n",
            " 14  MINIMUM_PAYMENTS                  8950 non-null   float64\n",
            " 15  PRC_FULL_PAYMENT                  8950 non-null   float64\n",
            " 16  TENURE                            8950 non-null   int64  \n",
            "dtypes: float64(14), int64(3)\n",
            "memory usage: 1.2 MB\n"
          ],
          "name": "stdout"
        }
      ]
    },
    {
      "cell_type": "code",
      "metadata": {
        "id": "xueyW3QDhkkt",
        "outputId": "95840bb1-bfa5-4a72-d0a0-3dc11dd9a8b6",
        "colab": {
          "base_uri": "https://localhost:8080/",
          "height": 34
        }
      },
      "source": [
        "type(df)"
      ],
      "execution_count": 23,
      "outputs": [
        {
          "output_type": "execute_result",
          "data": {
            "text/plain": [
              "pandas.core.frame.DataFrame"
            ]
          },
          "metadata": {
            "tags": []
          },
          "execution_count": 23
        }
      ]
    },
    {
      "cell_type": "code",
      "metadata": {
        "id": "p78GIhXzho6k",
        "outputId": "91494dfb-3d02-4063-ad2f-c1857c9d7b62",
        "colab": {
          "base_uri": "https://localhost:8080/",
          "height": 319
        }
      },
      "source": [
        "df.dtypes"
      ],
      "execution_count": 24,
      "outputs": [
        {
          "output_type": "execute_result",
          "data": {
            "text/plain": [
              "BALANCE                             float64\n",
              "BALANCE_FREQUENCY                   float64\n",
              "PURCHASES                           float64\n",
              "ONEOFF_PURCHASES                    float64\n",
              "INSTALLMENTS_PURCHASES              float64\n",
              "CASH_ADVANCE                        float64\n",
              "PURCHASES_FREQUENCY                 float64\n",
              "ONEOFF_PURCHASES_FREQUENCY          float64\n",
              "PURCHASES_INSTALLMENTS_FREQUENCY    float64\n",
              "CASH_ADVANCE_FREQUENCY              float64\n",
              "CASH_ADVANCE_TRX                      int64\n",
              "PURCHASES_TRX                         int64\n",
              "CREDIT_LIMIT                        float64\n",
              "PAYMENTS                            float64\n",
              "MINIMUM_PAYMENTS                    float64\n",
              "PRC_FULL_PAYMENT                    float64\n",
              "TENURE                                int64\n",
              "dtype: object"
            ]
          },
          "metadata": {
            "tags": []
          },
          "execution_count": 24
        }
      ]
    },
    {
      "cell_type": "code",
      "metadata": {
        "id": "X1851S88hs6X",
        "outputId": "ad35f5b5-178a-4af4-b48c-4fd7cca78432",
        "colab": {
          "base_uri": "https://localhost:8080/",
          "height": 34
        }
      },
      "source": [
        "df.shape"
      ],
      "execution_count": 25,
      "outputs": [
        {
          "output_type": "execute_result",
          "data": {
            "text/plain": [
              "(8950, 17)"
            ]
          },
          "metadata": {
            "tags": []
          },
          "execution_count": 25
        }
      ]
    },
    {
      "cell_type": "code",
      "metadata": {
        "id": "zKCxxnLPh8aC"
      },
      "source": [
        "from sklearn.preprocessing import StandardScaler"
      ],
      "execution_count": 26,
      "outputs": []
    },
    {
      "cell_type": "code",
      "metadata": {
        "id": "F50Z3GoBjv-1"
      },
      "source": [
        "df_scaled=StandardScaler().fit_transform(df)"
      ],
      "execution_count": 27,
      "outputs": []
    },
    {
      "cell_type": "code",
      "metadata": {
        "id": "gy3CSjSOj26s",
        "outputId": "d1b495e7-786d-4ca3-968a-e20f436c9662",
        "colab": {
          "base_uri": "https://localhost:8080/",
          "height": 235
        }
      },
      "source": [
        "df_scaled"
      ],
      "execution_count": 28,
      "outputs": [
        {
          "output_type": "execute_result",
          "data": {
            "text/plain": [
              "array([[-0.73198937, -0.24943448, -0.42489974, ..., -0.3053336 ,\n",
              "        -0.52555097,  0.36067954],\n",
              "       [ 0.78696085,  0.13432467, -0.46955188, ...,  0.08714014,\n",
              "         0.2342269 ,  0.36067954],\n",
              "       [ 0.44713513,  0.51808382, -0.10766823, ..., -0.10010994,\n",
              "        -0.52555097,  0.36067954],\n",
              "       ...,\n",
              "       [-0.7403981 , -0.18547673, -0.40196519, ..., -0.32935392,\n",
              "         0.32919999, -4.12276757],\n",
              "       [-0.74517423, -0.18547673, -0.46955188, ..., -0.34057185,\n",
              "         0.32919999, -4.12276757],\n",
              "       [-0.57257511, -0.88903307,  0.04214581, ..., -0.32688396,\n",
              "        -0.52555097, -4.12276757]])"
            ]
          },
          "metadata": {
            "tags": []
          },
          "execution_count": 28
        }
      ]
    },
    {
      "cell_type": "code",
      "metadata": {
        "id": "mxb9OxzAj5Uz"
      },
      "source": [
        "from sklearn.preprocessing import normalize"
      ],
      "execution_count": 29,
      "outputs": []
    },
    {
      "cell_type": "code",
      "metadata": {
        "id": "JFVTi0yrj8Ya"
      },
      "source": [
        "df_normalized=normalize(df_scaled)"
      ],
      "execution_count": 30,
      "outputs": []
    },
    {
      "cell_type": "code",
      "metadata": {
        "id": "TZm76FFEj_sv",
        "outputId": "14664c20-9e6a-4880-bce2-e4fc6953f1c8",
        "colab": {
          "base_uri": "https://localhost:8080/",
          "height": 235
        }
      },
      "source": [
        "df_normalized"
      ],
      "execution_count": 31,
      "outputs": [
        {
          "output_type": "execute_result",
          "data": {
            "text/plain": [
              "array([[-0.31203754, -0.10633067, -0.18112923, ..., -0.13015974,\n",
              "        -0.22403554,  0.153753  ],\n",
              "       [ 0.21992844,  0.03753912, -0.13122357, ...,  0.02435267,\n",
              "         0.06545835,  0.1007975 ],\n",
              "       [ 0.1266835 ,  0.14678487, -0.03050485, ..., -0.02836341,\n",
              "        -0.14890049,  0.10218868],\n",
              "       ...,\n",
              "       [-0.15698874, -0.03932717, -0.08522984, ..., -0.06983386,\n",
              "         0.06980122, -0.8741623 ],\n",
              "       [-0.15433414, -0.03841436, -0.09724958, ..., -0.07053634,\n",
              "         0.0681811 , -0.85387249],\n",
              "       [-0.11521665, -0.17889603,  0.00848081, ..., -0.06577735,\n",
              "        -0.1057542 , -0.82960552]])"
            ]
          },
          "metadata": {
            "tags": []
          },
          "execution_count": 31
        }
      ]
    },
    {
      "cell_type": "code",
      "metadata": {
        "id": "OHisK0SgkCMT"
      },
      "source": [
        "df_data=pd.DataFrame(df_normalized)"
      ],
      "execution_count": 32,
      "outputs": []
    },
    {
      "cell_type": "code",
      "metadata": {
        "id": "aKW_QSctkMuS"
      },
      "source": [
        "from sklearn.decomposition import PCA"
      ],
      "execution_count": 33,
      "outputs": []
    },
    {
      "cell_type": "code",
      "metadata": {
        "id": "qpD0juthkQFL"
      },
      "source": [
        "pca=PCA()"
      ],
      "execution_count": 34,
      "outputs": []
    },
    {
      "cell_type": "code",
      "metadata": {
        "id": "h7sIiVXfkTkX"
      },
      "source": [
        "df_pca=pd.DataFrame(pca.fit_transform(df_data))"
      ],
      "execution_count": 35,
      "outputs": []
    },
    {
      "cell_type": "code",
      "metadata": {
        "id": "o3KyS6cYkWss",
        "outputId": "c5e88762-7c38-4a75-83b1-8ebf8766522b",
        "colab": {
          "base_uri": "https://localhost:8080/",
          "height": 34
        }
      },
      "source": [
        "pca.explained_variance_ratio_[:2].sum()"
      ],
      "execution_count": 36,
      "outputs": [
        {
          "output_type": "execute_result",
          "data": {
            "text/plain": [
              "0.4742540278220841"
            ]
          },
          "metadata": {
            "tags": []
          },
          "execution_count": 36
        }
      ]
    },
    {
      "cell_type": "code",
      "metadata": {
        "id": "vn2TNXZekaOB",
        "outputId": "0ddfc1e5-8694-4cf9-835d-86676ff3edf1",
        "colab": {
          "base_uri": "https://localhost:8080/",
          "height": 195
        }
      },
      "source": [
        "df_pca.head()"
      ],
      "execution_count": 37,
      "outputs": [
        {
          "output_type": "execute_result",
          "data": {
            "text/html": [
              "<div>\n",
              "<style scoped>\n",
              "    .dataframe tbody tr th:only-of-type {\n",
              "        vertical-align: middle;\n",
              "    }\n",
              "\n",
              "    .dataframe tbody tr th {\n",
              "        vertical-align: top;\n",
              "    }\n",
              "\n",
              "    .dataframe thead th {\n",
              "        text-align: right;\n",
              "    }\n",
              "</style>\n",
              "<table border=\"1\" class=\"dataframe\">\n",
              "  <thead>\n",
              "    <tr style=\"text-align: right;\">\n",
              "      <th></th>\n",
              "      <th>0</th>\n",
              "      <th>1</th>\n",
              "      <th>2</th>\n",
              "      <th>3</th>\n",
              "      <th>4</th>\n",
              "      <th>5</th>\n",
              "      <th>6</th>\n",
              "      <th>7</th>\n",
              "      <th>8</th>\n",
              "      <th>9</th>\n",
              "      <th>10</th>\n",
              "      <th>11</th>\n",
              "      <th>12</th>\n",
              "      <th>13</th>\n",
              "      <th>14</th>\n",
              "      <th>15</th>\n",
              "      <th>16</th>\n",
              "    </tr>\n",
              "  </thead>\n",
              "  <tbody>\n",
              "    <tr>\n",
              "      <th>0</th>\n",
              "      <td>-0.489949</td>\n",
              "      <td>-0.679976</td>\n",
              "      <td>-0.096113</td>\n",
              "      <td>0.117184</td>\n",
              "      <td>-0.003728</td>\n",
              "      <td>-0.049327</td>\n",
              "      <td>-0.109315</td>\n",
              "      <td>0.082748</td>\n",
              "      <td>0.060330</td>\n",
              "      <td>0.011190</td>\n",
              "      <td>0.059985</td>\n",
              "      <td>0.003466</td>\n",
              "      <td>0.025746</td>\n",
              "      <td>0.000377</td>\n",
              "      <td>0.026873</td>\n",
              "      <td>-0.029074</td>\n",
              "      <td>-0.000064</td>\n",
              "    </tr>\n",
              "    <tr>\n",
              "      <th>1</th>\n",
              "      <td>-0.519099</td>\n",
              "      <td>0.544827</td>\n",
              "      <td>0.195171</td>\n",
              "      <td>-0.204054</td>\n",
              "      <td>-0.265750</td>\n",
              "      <td>0.194318</td>\n",
              "      <td>0.030151</td>\n",
              "      <td>0.084667</td>\n",
              "      <td>-0.028670</td>\n",
              "      <td>0.460078</td>\n",
              "      <td>0.233696</td>\n",
              "      <td>-0.021468</td>\n",
              "      <td>0.113018</td>\n",
              "      <td>0.015088</td>\n",
              "      <td>-0.152155</td>\n",
              "      <td>0.013944</td>\n",
              "      <td>0.000064</td>\n",
              "    </tr>\n",
              "    <tr>\n",
              "      <th>2</th>\n",
              "      <td>0.330633</td>\n",
              "      <td>0.268879</td>\n",
              "      <td>0.120072</td>\n",
              "      <td>0.745725</td>\n",
              "      <td>0.130928</td>\n",
              "      <td>-0.097762</td>\n",
              "      <td>0.053001</td>\n",
              "      <td>-0.365170</td>\n",
              "      <td>-0.231719</td>\n",
              "      <td>0.070469</td>\n",
              "      <td>0.055219</td>\n",
              "      <td>0.103989</td>\n",
              "      <td>-0.124993</td>\n",
              "      <td>-0.131018</td>\n",
              "      <td>0.021490</td>\n",
              "      <td>-0.087637</td>\n",
              "      <td>-0.000029</td>\n",
              "    </tr>\n",
              "    <tr>\n",
              "      <th>3</th>\n",
              "      <td>-0.481656</td>\n",
              "      <td>-0.097611</td>\n",
              "      <td>0.456930</td>\n",
              "      <td>0.287131</td>\n",
              "      <td>-0.392945</td>\n",
              "      <td>-0.258155</td>\n",
              "      <td>-0.043547</td>\n",
              "      <td>-0.048495</td>\n",
              "      <td>0.081002</td>\n",
              "      <td>-0.250702</td>\n",
              "      <td>-0.114043</td>\n",
              "      <td>-0.181191</td>\n",
              "      <td>0.219746</td>\n",
              "      <td>-0.114830</td>\n",
              "      <td>-0.057326</td>\n",
              "      <td>0.007030</td>\n",
              "      <td>-0.000021</td>\n",
              "    </tr>\n",
              "    <tr>\n",
              "      <th>4</th>\n",
              "      <td>-0.563512</td>\n",
              "      <td>-0.482506</td>\n",
              "      <td>-0.253768</td>\n",
              "      <td>0.325008</td>\n",
              "      <td>0.027698</td>\n",
              "      <td>0.085402</td>\n",
              "      <td>0.045598</td>\n",
              "      <td>0.135228</td>\n",
              "      <td>0.024128</td>\n",
              "      <td>0.057543</td>\n",
              "      <td>0.053529</td>\n",
              "      <td>0.000693</td>\n",
              "      <td>-0.036238</td>\n",
              "      <td>0.025663</td>\n",
              "      <td>0.051324</td>\n",
              "      <td>0.018974</td>\n",
              "      <td>-0.000019</td>\n",
              "    </tr>\n",
              "  </tbody>\n",
              "</table>\n",
              "</div>"
            ],
            "text/plain": [
              "         0         1         2   ...        14        15        16\n",
              "0 -0.489949 -0.679976 -0.096113  ...  0.026873 -0.029074 -0.000064\n",
              "1 -0.519099  0.544827  0.195171  ... -0.152155  0.013944  0.000064\n",
              "2  0.330633  0.268879  0.120072  ...  0.021490 -0.087637 -0.000029\n",
              "3 -0.481656 -0.097611  0.456930  ... -0.057326  0.007030 -0.000021\n",
              "4 -0.563512 -0.482506 -0.253768  ...  0.051324  0.018974 -0.000019\n",
              "\n",
              "[5 rows x 17 columns]"
            ]
          },
          "metadata": {
            "tags": []
          },
          "execution_count": 37
        }
      ]
    },
    {
      "cell_type": "code",
      "metadata": {
        "id": "KKddBcwHkd5E"
      },
      "source": [
        "df_final=df_pca.loc[:,0:1]"
      ],
      "execution_count": 38,
      "outputs": []
    },
    {
      "cell_type": "code",
      "metadata": {
        "id": "8KGEG5bfkiS7"
      },
      "source": [
        "df_final.columns=[\"PC1\",\"PC2\"]"
      ],
      "execution_count": 39,
      "outputs": []
    },
    {
      "cell_type": "code",
      "metadata": {
        "id": "EedMGI-eklIm",
        "outputId": "d0b51150-7267-45aa-d452-77d3e6808604",
        "colab": {
          "base_uri": "https://localhost:8080/",
          "height": 195
        }
      },
      "source": [
        "df_final.head()"
      ],
      "execution_count": 40,
      "outputs": [
        {
          "output_type": "execute_result",
          "data": {
            "text/html": [
              "<div>\n",
              "<style scoped>\n",
              "    .dataframe tbody tr th:only-of-type {\n",
              "        vertical-align: middle;\n",
              "    }\n",
              "\n",
              "    .dataframe tbody tr th {\n",
              "        vertical-align: top;\n",
              "    }\n",
              "\n",
              "    .dataframe thead th {\n",
              "        text-align: right;\n",
              "    }\n",
              "</style>\n",
              "<table border=\"1\" class=\"dataframe\">\n",
              "  <thead>\n",
              "    <tr style=\"text-align: right;\">\n",
              "      <th></th>\n",
              "      <th>PC1</th>\n",
              "      <th>PC2</th>\n",
              "    </tr>\n",
              "  </thead>\n",
              "  <tbody>\n",
              "    <tr>\n",
              "      <th>0</th>\n",
              "      <td>-0.489949</td>\n",
              "      <td>-0.679976</td>\n",
              "    </tr>\n",
              "    <tr>\n",
              "      <th>1</th>\n",
              "      <td>-0.519099</td>\n",
              "      <td>0.544827</td>\n",
              "    </tr>\n",
              "    <tr>\n",
              "      <th>2</th>\n",
              "      <td>0.330633</td>\n",
              "      <td>0.268879</td>\n",
              "    </tr>\n",
              "    <tr>\n",
              "      <th>3</th>\n",
              "      <td>-0.481656</td>\n",
              "      <td>-0.097611</td>\n",
              "    </tr>\n",
              "    <tr>\n",
              "      <th>4</th>\n",
              "      <td>-0.563512</td>\n",
              "      <td>-0.482506</td>\n",
              "    </tr>\n",
              "  </tbody>\n",
              "</table>\n",
              "</div>"
            ],
            "text/plain": [
              "        PC1       PC2\n",
              "0 -0.489949 -0.679976\n",
              "1 -0.519099  0.544827\n",
              "2  0.330633  0.268879\n",
              "3 -0.481656 -0.097611\n",
              "4 -0.563512 -0.482506"
            ]
          },
          "metadata": {
            "tags": []
          },
          "execution_count": 40
        }
      ]
    },
    {
      "cell_type": "code",
      "metadata": {
        "id": "TReCtQPakoMg",
        "outputId": "05111c4a-fed5-4ddb-a387-dd65f4a2c828",
        "colab": {
          "base_uri": "https://localhost:8080/",
          "height": 34
        }
      },
      "source": [
        "df_final.shape"
      ],
      "execution_count": 41,
      "outputs": [
        {
          "output_type": "execute_result",
          "data": {
            "text/plain": [
              "(8950, 2)"
            ]
          },
          "metadata": {
            "tags": []
          },
          "execution_count": 41
        }
      ]
    },
    {
      "cell_type": "code",
      "metadata": {
        "id": "FFRrqyGwkrNT"
      },
      "source": [
        "from sklearn.cluster import AgglomerativeClustering"
      ],
      "execution_count": 42,
      "outputs": []
    },
    {
      "cell_type": "code",
      "metadata": {
        "id": "0kb9EE62kuYS"
      },
      "source": [
        "ac2=AgglomerativeClustering(n_clusters=2)"
      ],
      "execution_count": 43,
      "outputs": []
    },
    {
      "cell_type": "code",
      "metadata": {
        "id": "7w6u3VFtkw5t",
        "outputId": "9e11ab1e-a7e1-4646-ccec-d18249292625",
        "colab": {
          "base_uri": "https://localhost:8080/",
          "height": 34
        }
      },
      "source": [
        "len(ac2.fit_predict(df_final))"
      ],
      "execution_count": 44,
      "outputs": [
        {
          "output_type": "execute_result",
          "data": {
            "text/plain": [
              "8950"
            ]
          },
          "metadata": {
            "tags": []
          },
          "execution_count": 44
        }
      ]
    },
    {
      "cell_type": "code",
      "metadata": {
        "id": "-Xi-qm4xky7a"
      },
      "source": [
        "import matplotlib.pyplot as plt"
      ],
      "execution_count": 45,
      "outputs": []
    },
    {
      "cell_type": "code",
      "metadata": {
        "id": "25DOb2e5k1_z",
        "outputId": "84c6e86e-905e-49e0-fbc3-0dee5b3b754a",
        "colab": {
          "base_uri": "https://localhost:8080/",
          "height": 265
        }
      },
      "source": [
        "plt.scatter(df_final[\"PC1\"],df_final[\"PC2\"],c=ac2.fit_predict(df_final))\n",
        "plt.show()"
      ],
      "execution_count": 46,
      "outputs": [
        {
          "output_type": "display_data",
          "data": {
            "image/png": "[encoded data removed]",
            "text/plain": [
              "<Figure size 432x288 with 1 Axes>"
            ]
          },
          "metadata": {
            "tags": [],
            "needs_background": "light"
          }
        }
      ]
    },
    {
      "cell_type": "code",
      "metadata": {
        "id": "7URzDbfUk4oX",
        "outputId": "c376c60a-a9f5-4eb3-c496-207742960c1f",
        "colab": {
          "base_uri": "https://localhost:8080/",
          "height": 265
        }
      },
      "source": [
        "ac3=AgglomerativeClustering(n_clusters=3)\n",
        "plt.scatter(df_final[\"PC1\"],df_final[\"PC2\"],c=ac3.fit_predict(df_final))\n",
        "plt.show()"
      ],
      "execution_count": 47,
      "outputs": [
        {
          "output_type": "display_data",
          "data": {
            "image/png": "[encoded data removed]",
            "text/plain": [
              "<Figure size 432x288 with 1 Axes>"
            ]
          },
          "metadata": {
            "tags": [],
            "needs_background": "light"
          }
        }
      ]
    },
    {
      "cell_type": "code",
      "metadata": {
        "id": "P-HmSdhRlE6D",
        "outputId": "0faec3d4-2b50-49b6-c273-64420871f823",
        "colab": {
          "base_uri": "https://localhost:8080/",
          "height": 265
        }
      },
      "source": [
        "ac4=AgglomerativeClustering(n_clusters=4)\n",
        "plt.scatter(df_final[\"PC1\"],df_final[\"PC2\"],c=ac4.fit_predict(df_final))\n",
        "plt.show()"
      ],
      "execution_count": 48,
      "outputs": [
        {
          "output_type": "display_data",
          "data": {
            "image/png": "[encoded data removed]",
            "text/plain": [
              "<Figure size 432x288 with 1 Axes>"
            ]
          },
          "metadata": {
            "tags": [],
            "needs_background": "light"
          }
        }
      ]
    },
    {
      "cell_type": "code",
      "metadata": {
        "id": "Nhnak5JBmKMJ",
        "outputId": "cfd6b9f2-526c-4455-d25b-2be1f8729659",
        "colab": {
          "base_uri": "https://localhost:8080/",
          "height": 265
        }
      },
      "source": [
        "ac5=AgglomerativeClustering(n_clusters=5)\n",
        "plt.scatter(df_final[\"PC1\"],df_final[\"PC2\"],c=ac5.fit_predict(df_final))\n",
        "plt.show()"
      ],
      "execution_count": 56,
      "outputs": [
        {
          "output_type": "display_data",
          "data": {
            "image/png": "[encoded data removed]",
            "text/plain": [
              "<Figure size 432x288 with 1 Axes>"
            ]
          },
          "metadata": {
            "tags": [],
            "needs_background": "light"
          }
        }
      ]
    },
    {
      "cell_type": "code",
      "metadata": {
        "id": "pYLNHYRgmwj5",
        "outputId": "fe843c7b-629a-4551-f0c0-50a9d0be50c5",
        "colab": {
          "base_uri": "https://localhost:8080/",
          "height": 265
        }
      },
      "source": [
        "ac6=AgglomerativeClustering(n_clusters=6)\n",
        "plt.scatter(df_final[\"PC1\"],df_final[\"PC2\"],c=ac6.fit_predict(df_final))\n",
        "plt.show()"
      ],
      "execution_count": 68,
      "outputs": [
        {
          "output_type": "display_data",
          "data": {
            "image/png": "[encoded data removed]",
            "text/plain": [
              "<Figure size 432x288 with 1 Axes>"
            ]
          },
          "metadata": {
            "tags": [],
            "needs_background": "light"
          }
        }
      ]
    },
    {
      "cell_type": "code",
      "metadata": {
        "id": "hnKlvWCWlKm1"
      },
      "source": [
        "k=[2,3,4,5,6]"
      ],
      "execution_count": 71,
      "outputs": []
    },
    {
      "cell_type": "code",
      "metadata": {
        "id": "VIiBwFRclRWv"
      },
      "source": [
        "silhouette_scores=[]"
      ],
      "execution_count": 72,
      "outputs": []
    },
    {
      "cell_type": "code",
      "metadata": {
        "id": "8obqa8OylUEh"
      },
      "source": [
        "from sklearn.metrics import silhouette_score\n"
      ],
      "execution_count": 73,
      "outputs": []
    },
    {
      "cell_type": "code",
      "metadata": {
        "id": "5BhItmiXlWR-"
      },
      "source": [
        "silhouette_scores.append(silhouette_score(df_final,ac2.fit_predict(df_final)))"
      ],
      "execution_count": 74,
      "outputs": []
    },
    {
      "cell_type": "code",
      "metadata": {
        "id": "zHDcP8VBmddt"
      },
      "source": [
        "silhouette_scores.append(silhouette_score(df_final,ac3.fit_predict(df_final)))"
      ],
      "execution_count": 75,
      "outputs": []
    },
    {
      "cell_type": "code",
      "metadata": {
        "id": "JKuOA9eqmiTr"
      },
      "source": [
        "silhouette_scores.append(silhouette_score(df_final,ac4.fit_predict(df_final)))"
      ],
      "execution_count": 76,
      "outputs": []
    },
    {
      "cell_type": "code",
      "metadata": {
        "id": "4LZkH3eImn9I"
      },
      "source": [
        "silhouette_scores.append(silhouette_score(df_final,ac5.fit_predict(df_final)))"
      ],
      "execution_count": 77,
      "outputs": []
    },
    {
      "cell_type": "code",
      "metadata": {
        "id": "QjTOE8Cfm9N1"
      },
      "source": [
        "silhouette_scores.append(silhouette_score(df_final,ac6.fit_predict(df_final)))"
      ],
      "execution_count": 78,
      "outputs": []
    },
    {
      "cell_type": "code",
      "metadata": {
        "id": "JRuavzRkljQx",
        "outputId": "f71fe72c-1cac-4a9f-aaee-fed1b409f14e",
        "colab": {
          "base_uri": "https://localhost:8080/",
          "height": 265
        }
      },
      "source": [
        "plt.bar(k,silhouette_scores)\n",
        "plt.show()"
      ],
      "execution_count": 79,
      "outputs": [
        {
          "output_type": "display_data",
          "data": {
            "image/png": "[encoded data removed]",
            "text/plain": [
              "<Figure size 432x288 with 1 Axes>"
            ]
          },
          "metadata": {
            "tags": [],
            "needs_background": "light"
          }
        }
      ]
    },
    {
      "cell_type": "code",
      "metadata": {
        "id": "APu3BopTlpk5"
      },
      "source": [
        ""
      ],
      "execution_count": null,
      "outputs": []
    }
  ]
}