{
  "nbformat": 4,
  "nbformat_minor": 0,
  "metadata": {
    "colab": {
      "provenance": [],
      "toc_visible": true,
      "include_colab_link": true
    },
    "kernelspec": {
      "name": "python3",
      "display_name": "Python 3"
    }
  },
  "cells": [
    {
      "cell_type": "markdown",
      "metadata": {
        "id": "view-in-github",
        "colab_type": "text"
      },
      "source": [
        "<a href=\"https://colab.research.google.com/github/Santgupt/Projects/blob/master/Worksheet_2_1.ipynb\" target=\"_parent\"><img src=\"https://colab.research.google.com/assets/colab-badge.svg\" alt=\"Open In Colab\"/></a>"
      ]
    },
    {
      "cell_type": "markdown",
      "metadata": {
        "id": "owD1ZWHrmVYt"
      },
      "source": [
        "# Welcome to Worksheet 2.1 Let's Start Coding......!"
      ]
    },
    {
      "cell_type": "markdown",
      "metadata": {
        "id": "gtVvkrZZgwxk"
      },
      "source": [
        "Question 1 - Write a program which can take the user's name and print a greeting message along with the name."
      ]
    },
    {
      "cell_type": "code",
      "metadata": {
        "id": "Hxp1VbuGhXDA",
        "colab": {
          "base_uri": "https://localhost:8080/"
        },
        "outputId": "4a2e5765-b446-4747-ef62-05bf806d145b"
      },
      "source": [
        "name = input('')\n",
        "print ('How are you:'  +  name)\n",
        "print (\"What you had in your breakfast-\" +  name)\n"
      ],
      "execution_count": 20,
      "outputs": [
        {
          "output_type": "stream",
          "name": "stdout",
          "text": [
            "Mike\n",
            "How are you:Mike\n",
            "What you had in your breakfast-Mike\n"
          ]
        }
      ]
    },
    {
      "cell_type": "code",
      "metadata": {
        "id": "EJfnSjXKi-Fx"
      },
      "source": [],
      "execution_count": 15,
      "outputs": []
    },
    {
      "cell_type": "markdown",
      "metadata": {
        "id": "6fEZ-LDChX_F"
      },
      "source": [
        "Question 2 - Let's try to play with numbers, take two numbers as input and print their sum along with a message."
      ]
    },
    {
      "cell_type": "code",
      "metadata": {
        "id": "Or8lEYkrGgLc",
        "colab": {
          "base_uri": "https://localhost:8080/"
        },
        "outputId": "52bba901-bce4-40f6-db1c-16daa42a6f95"
      },
      "source": [
        "num1 = int(input(\"I have Rs: \"))\n",
        "num2 = int(input(\"You have Rs: \"))\n",
        "sum = num1 + num2\n",
        "print(f\"Together we have Rs {num1}/- + Rs {num2}/- = Rs {sum}/- only.\")\n",
        "\n"
      ],
      "execution_count": 45,
      "outputs": [
        {
          "output_type": "stream",
          "name": "stdout",
          "text": [
            "I have Rs: 3000\n",
            "You have Rs: 2000\n",
            "Together we have Rs 3000/- + Rs 2000/- = Rs 5000/- only.\n"
          ]
        }
      ]
    },
    {
      "cell_type": "markdown",
      "metadata": {
        "id": "FNSfALLvhoML"
      },
      "source": [
        "Question 3 - Okay let's level up the numbers game, input length and breadth of a rectangle from the user and calculate it's area."
      ]
    },
    {
      "cell_type": "code",
      "metadata": {
        "id": "caZGkx10ifdw",
        "colab": {
          "base_uri": "https://localhost:8080/"
        },
        "outputId": "73a5291a-0c6e-4861-dada-27d06d1c95c3"
      },
      "source": [
        "len = int(input('Length of a Rectangle is: '))\n",
        "bre = int(input('Breadth of a Rectangle is: '))\n",
        "area = len * bre\n",
        "print(f\"Area of Rectangle is {len} X {bre} = {area}\")"
      ],
      "execution_count": 47,
      "outputs": [
        {
          "output_type": "stream",
          "name": "stdout",
          "text": [
            "Length of a Rectangle is: 12\n",
            "Breadth of a Rectangle is: 30\n",
            "Area of Rectangle is 12 X 30 = 360\n"
          ]
        }
      ]
    },
    {
      "cell_type": "code",
      "metadata": {
        "id": "qN0237uYGhcz"
      },
      "source": [],
      "execution_count": null,
      "outputs": []
    },
    {
      "cell_type": "markdown",
      "metadata": {
        "id": "E6ZFXaLVifzp"
      },
      "source": [
        "Question 4 - Whoa! you are becoming a pro now. Let's see if you could solve this one.<br> Input a number and print it's cube.<br>\n",
        "Quite Simple but can you write multiple solutions for this."
      ]
    },
    {
      "cell_type": "code",
      "metadata": {
        "id": "h3tIjRyxjtHP",
        "colab": {
          "base_uri": "https://localhost:8080/"
        },
        "outputId": "e210fd3b-1930-4a25-d9e0-5a06e5e5c94b"
      },
      "source": [
        "Num = int(input())\n",
        "Cube = Num*Num*Num\n",
        "print (f\"Cube of the given number is {Num} X {Num} X {Num} = {Cube}\")"
      ],
      "execution_count": 53,
      "outputs": [
        {
          "output_type": "stream",
          "name": "stdout",
          "text": [
            "7\n",
            "Cube of the given number is 7 X 7 X 7 = 343\n"
          ]
        }
      ]
    },
    {
      "cell_type": "code",
      "metadata": {
        "id": "pd9qLVqMjseY"
      },
      "source": [],
      "execution_count": null,
      "outputs": []
    },
    {
      "cell_type": "markdown",
      "metadata": {
        "id": "j5R3ZjMdgpgD"
      },
      "source": [
        "Question 5 - Write a program to input a number 'n' and print it's Square and Cube.\n",
        "\n",
        "\n",
        "\n"
      ]
    },
    {
      "cell_type": "code",
      "metadata": {
        "id": "RQ0eSQgsg-UN",
        "colab": {
          "base_uri": "https://localhost:8080/"
        },
        "outputId": "d660ee2e-bea8-4f2f-f483-5d53265d0873"
      },
      "source": [
        "n = int(input(\"The given number n is: \"))\n",
        "square = n*n\n",
        "cube = n*n*n\n",
        "print (f\"square of n is {square} and cube of n is {cube}\")"
      ],
      "execution_count": 55,
      "outputs": [
        {
          "output_type": "stream",
          "name": "stdout",
          "text": [
            "The given number n is: 6\n",
            "square of n is 36 and cube of n is 216\n"
          ]
        }
      ]
    },
    {
      "cell_type": "code",
      "metadata": {
        "id": "xIHjMdc-g9xx"
      },
      "source": [],
      "execution_count": null,
      "outputs": []
    },
    {
      "cell_type": "markdown",
      "metadata": {
        "id": "QIweAYZyjtfd"
      },
      "source": [
        "Question 6 - Write a program to input values in Km and convert it into miles.<br> (1Km = 0.621371 Miles)"
      ]
    },
    {
      "cell_type": "code",
      "metadata": {
        "id": "pgtWTD6UmJM3",
        "colab": {
          "base_uri": "https://localhost:8080/"
        },
        "outputId": "9aa98593-19b6-414f-f688-aefdebd667e2"
      },
      "source": [
        "Km = int(input())\n",
        "Mile = Km*0.621371\n",
        "print (f'{Km} kilometer is {Mile} miles')"
      ],
      "execution_count": 63,
      "outputs": [
        {
          "output_type": "stream",
          "name": "stdout",
          "text": [
            "4\n",
            "4 kilometer is 2.485484 miles\n"
          ]
        }
      ]
    },
    {
      "cell_type": "code",
      "metadata": {
        "id": "YGE7TldpGoe0"
      },
      "source": [],
      "execution_count": null,
      "outputs": []
    },
    {
      "cell_type": "markdown",
      "metadata": {
        "id": "eH6JqjnDnDTK"
      },
      "source": [
        "Quetion 7 - Write a program to input in Quintals and convert it into Grams and Kilograms.\n"
      ]
    },
    {
      "cell_type": "code",
      "metadata": {
        "id": "QL0iif6e1fDB",
        "colab": {
          "base_uri": "https://localhost:8080/"
        },
        "outputId": "c23f2345-26bf-40e3-fed8-71ae60fd85fc"
      },
      "source": [
        "Qtl = int(input())\n",
        "Kg = Qtl*100\n",
        "Grm = Qtl*100000\n",
        "print(f\" {Qtl} Quintal is {Kg} Kilogram and {Grm} grams\")"
      ],
      "execution_count": 69,
      "outputs": [
        {
          "output_type": "stream",
          "name": "stdout",
          "text": [
            "3\n",
            " 3 Quintal is 300 Kilogram and 300000 grams\n"
          ]
        }
      ]
    },
    {
      "cell_type": "code",
      "metadata": {
        "id": "BW0fclQ81eod"
      },
      "source": [],
      "execution_count": null,
      "outputs": []
    },
    {
      "cell_type": "markdown",
      "metadata": {
        "id": "5GtIPfPu1ffK"
      },
      "source": [
        "Quetion 8 - Write a program to input two numbers and swape them with each other."
      ]
    },
    {
      "cell_type": "code",
      "metadata": {
        "id": "0PTaUlxd1ti-",
        "colab": {
          "base_uri": "https://localhost:8080/"
        },
        "outputId": "dfe7db8a-60ab-477f-a81e-f0d131cedb36"
      },
      "source": [
        "num1 = int(input())\n",
        "num2 = int(input())\n",
        "num1, num2 = num2, num1\n",
        "print(f\"After swaping the values the result is {num1, num2}\")"
      ],
      "execution_count": 71,
      "outputs": [
        {
          "output_type": "stream",
          "name": "stdout",
          "text": [
            "9\n",
            "2\n",
            "After swaping the values the result is (2, 9)\n"
          ]
        }
      ]
    },
    {
      "cell_type": "code",
      "metadata": {
        "id": "CaKkRcYQ1tXG"
      },
      "source": [],
      "execution_count": null,
      "outputs": []
    },
    {
      "cell_type": "markdown",
      "metadata": {
        "id": "qQfITseA1uA-"
      },
      "source": [
        "Question 9 - Write a program to input three numbers and swap them as this:<br> First number becomes second number, second number becomes third number and third number becomes the first number"
      ]
    },
    {
      "cell_type": "code",
      "metadata": {
        "id": "uN2fZvst2PMn",
        "colab": {
          "base_uri": "https://localhost:8080/"
        },
        "outputId": "acc3d31c-1b25-4e83-e733-9897c56cfb1d"
      },
      "source": [
        "num1 = int(input())\n",
        "num2 = int(input())\n",
        "num3 = int(input())\n",
        "num1, num2, num3 = num2, num3, num1\n",
        "print (f\"After swaping the values, result is {num1, num2, num3}\")"
      ],
      "execution_count": 73,
      "outputs": [
        {
          "output_type": "stream",
          "name": "stdout",
          "text": [
            "5\n",
            "7\n",
            "9\n",
            "After swaping the values, result is (7, 9, 5)\n"
          ]
        }
      ]
    },
    {
      "cell_type": "code",
      "metadata": {
        "id": "ajrlShxnGuez"
      },
      "source": [],
      "execution_count": null,
      "outputs": []
    },
    {
      "cell_type": "markdown",
      "metadata": {
        "id": "Nuwyjhpd2Plm"
      },
      "source": [
        "Question 10 - Write a program to inout three numbers and swap them as this:<br>\n",
        "1st number gets the value of 1st+2nd<br>\n",
        "2nd number gets the value of 1st+3rd<br>\n",
        "3rd number gets the value of 3rd+2nd<br>\n"
      ]
    },
    {
      "cell_type": "code",
      "metadata": {
        "id": "wnUkVAWtaqhY",
        "colab": {
          "base_uri": "https://localhost:8080/"
        },
        "outputId": "c5dd6af9-8237-4dd0-a1f5-2d90bedfb349"
      },
      "source": [
        "num1 = int(input())\n",
        "num2 = int(input())\n",
        "num3 = int(input())\n",
        "sum1 = num1 + num2\n",
        "sum2 = num1 + num3\n",
        "sum3 = num3 + num2\n",
        "print (f\"After swaping the values, Result is {sum1, sum2, sum3}\")\n",
        "\n"
      ],
      "execution_count": 76,
      "outputs": [
        {
          "output_type": "stream",
          "name": "stdout",
          "text": [
            "1\n",
            "2\n",
            "3\n",
            "After swaping the values, Result is (3, 4, 5)\n"
          ]
        }
      ]
    },
    {
      "cell_type": "code",
      "metadata": {
        "id": "hKfoIKleGwoo"
      },
      "source": [],
      "execution_count": null,
      "outputs": []
    }
  ]
}