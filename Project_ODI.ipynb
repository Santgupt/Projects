{
  "nbformat": 4,
  "nbformat_minor": 0,
  "metadata": {
    "colab": {
      "name": "Project_ODI.ipynb",
      "provenance": [],
      "authorship_tag": "ABX9TyMJt4pVoy1vaHRfkqlANuUy",
      "include_colab_link": true
    },
    "kernelspec": {
      "name": "python3",
      "display_name": "Python 3"
    }
  },
  "cells": [
    {
      "cell_type": "markdown",
      "metadata": {
        "id": "view-in-github",
        "colab_type": "text"
      },
      "source": [
        "<a href=\"https://colab.research.google.com/github/Santgupt/Test-Projects/blob/master/Project_ODI.ipynb\" target=\"_parent\"><img src=\"https://colab.research.google.com/assets/colab-badge.svg\" alt=\"Open In Colab\"/></a>"
      ]
    },
    {
      "cell_type": "code",
      "metadata": {
        "id": "FR4-9QsQ5JIy",
        "colab_type": "code",
        "colab": {}
      },
      "source": [
        "import pandas as pd"
      ],
      "execution_count": 1,
      "outputs": []
    },
    {
      "cell_type": "code",
      "metadata": {
        "id": "2UDcvFi65OnS",
        "colab_type": "code",
        "colab": {}
      },
      "source": [
        "df=pd.read_csv('odi.csv')"
      ],
      "execution_count": 2,
      "outputs": []
    },
    {
      "cell_type": "code",
      "metadata": {
        "id": "tB1gesPJ5W6l",
        "colab_type": "code",
        "colab": {
          "base_uri": "https://localhost:8080/",
          "height": 586
        },
        "outputId": "892d1058-0fa7-43a5-9a5c-f0e1659f6716"
      },
      "source": [
        "df"
      ],
      "execution_count": 3,
      "outputs": [
        {
          "output_type": "execute_result",
          "data": {
            "text/html": [
              "<div>\n",
              "<style scoped>\n",
              "    .dataframe tbody tr th:only-of-type {\n",
              "        vertical-align: middle;\n",
              "    }\n",
              "\n",
              "    .dataframe tbody tr th {\n",
              "        vertical-align: top;\n",
              "    }\n",
              "\n",
              "    .dataframe thead th {\n",
              "        text-align: right;\n",
              "    }\n",
              "</style>\n",
              "<table border=\"1\" class=\"dataframe\">\n",
              "  <thead>\n",
              "    <tr style=\"text-align: right;\">\n",
              "      <th></th>\n",
              "      <th>mid</th>\n",
              "      <th>date</th>\n",
              "      <th>venue</th>\n",
              "      <th>bat_team</th>\n",
              "      <th>bowl_team</th>\n",
              "      <th>batsman</th>\n",
              "      <th>bowler</th>\n",
              "      <th>runs</th>\n",
              "      <th>wickets</th>\n",
              "      <th>overs</th>\n",
              "      <th>runs_last_5</th>\n",
              "      <th>wickets_last_5</th>\n",
              "      <th>striker</th>\n",
              "      <th>non-striker</th>\n",
              "      <th>total</th>\n",
              "    </tr>\n",
              "  </thead>\n",
              "  <tbody>\n",
              "    <tr>\n",
              "      <th>0</th>\n",
              "      <td>1</td>\n",
              "      <td>2006-06-13</td>\n",
              "      <td>Civil Service Cricket Club, Stormont</td>\n",
              "      <td>England</td>\n",
              "      <td>Ireland</td>\n",
              "      <td>ME Trescothick</td>\n",
              "      <td>DT Johnston</td>\n",
              "      <td>0</td>\n",
              "      <td>0</td>\n",
              "      <td>0.1</td>\n",
              "      <td>0</td>\n",
              "      <td>0</td>\n",
              "      <td>0</td>\n",
              "      <td>0</td>\n",
              "      <td>301</td>\n",
              "    </tr>\n",
              "    <tr>\n",
              "      <th>1</th>\n",
              "      <td>1</td>\n",
              "      <td>2006-06-13</td>\n",
              "      <td>Civil Service Cricket Club, Stormont</td>\n",
              "      <td>England</td>\n",
              "      <td>Ireland</td>\n",
              "      <td>ME Trescothick</td>\n",
              "      <td>DT Johnston</td>\n",
              "      <td>0</td>\n",
              "      <td>0</td>\n",
              "      <td>0.2</td>\n",
              "      <td>0</td>\n",
              "      <td>0</td>\n",
              "      <td>0</td>\n",
              "      <td>0</td>\n",
              "      <td>301</td>\n",
              "    </tr>\n",
              "    <tr>\n",
              "      <th>2</th>\n",
              "      <td>1</td>\n",
              "      <td>2006-06-13</td>\n",
              "      <td>Civil Service Cricket Club, Stormont</td>\n",
              "      <td>England</td>\n",
              "      <td>Ireland</td>\n",
              "      <td>ME Trescothick</td>\n",
              "      <td>DT Johnston</td>\n",
              "      <td>4</td>\n",
              "      <td>0</td>\n",
              "      <td>0.3</td>\n",
              "      <td>4</td>\n",
              "      <td>0</td>\n",
              "      <td>0</td>\n",
              "      <td>0</td>\n",
              "      <td>301</td>\n",
              "    </tr>\n",
              "    <tr>\n",
              "      <th>3</th>\n",
              "      <td>1</td>\n",
              "      <td>2006-06-13</td>\n",
              "      <td>Civil Service Cricket Club, Stormont</td>\n",
              "      <td>England</td>\n",
              "      <td>Ireland</td>\n",
              "      <td>ME Trescothick</td>\n",
              "      <td>DT Johnston</td>\n",
              "      <td>6</td>\n",
              "      <td>0</td>\n",
              "      <td>0.4</td>\n",
              "      <td>6</td>\n",
              "      <td>0</td>\n",
              "      <td>0</td>\n",
              "      <td>0</td>\n",
              "      <td>301</td>\n",
              "    </tr>\n",
              "    <tr>\n",
              "      <th>4</th>\n",
              "      <td>1</td>\n",
              "      <td>2006-06-13</td>\n",
              "      <td>Civil Service Cricket Club, Stormont</td>\n",
              "      <td>England</td>\n",
              "      <td>Ireland</td>\n",
              "      <td>ME Trescothick</td>\n",
              "      <td>DT Johnston</td>\n",
              "      <td>6</td>\n",
              "      <td>0</td>\n",
              "      <td>0.5</td>\n",
              "      <td>6</td>\n",
              "      <td>0</td>\n",
              "      <td>0</td>\n",
              "      <td>0</td>\n",
              "      <td>301</td>\n",
              "    </tr>\n",
              "    <tr>\n",
              "      <th>...</th>\n",
              "      <td>...</td>\n",
              "      <td>...</td>\n",
              "      <td>...</td>\n",
              "      <td>...</td>\n",
              "      <td>...</td>\n",
              "      <td>...</td>\n",
              "      <td>...</td>\n",
              "      <td>...</td>\n",
              "      <td>...</td>\n",
              "      <td>...</td>\n",
              "      <td>...</td>\n",
              "      <td>...</td>\n",
              "      <td>...</td>\n",
              "      <td>...</td>\n",
              "      <td>...</td>\n",
              "    </tr>\n",
              "    <tr>\n",
              "      <th>350894</th>\n",
              "      <td>1188</td>\n",
              "      <td>2017-07-10</td>\n",
              "      <td>Mahinda Rajapaksa International Cricket Stadiu...</td>\n",
              "      <td>Sri Lanka</td>\n",
              "      <td>Zimbabwe</td>\n",
              "      <td>DAS Gunaratne</td>\n",
              "      <td>TL Chatara</td>\n",
              "      <td>201</td>\n",
              "      <td>8</td>\n",
              "      <td>49.2</td>\n",
              "      <td>39</td>\n",
              "      <td>0</td>\n",
              "      <td>59</td>\n",
              "      <td>18</td>\n",
              "      <td>203</td>\n",
              "    </tr>\n",
              "    <tr>\n",
              "      <th>350895</th>\n",
              "      <td>1188</td>\n",
              "      <td>2017-07-10</td>\n",
              "      <td>Mahinda Rajapaksa International Cricket Stadiu...</td>\n",
              "      <td>Sri Lanka</td>\n",
              "      <td>Zimbabwe</td>\n",
              "      <td>DAS Gunaratne</td>\n",
              "      <td>TL Chatara</td>\n",
              "      <td>201</td>\n",
              "      <td>8</td>\n",
              "      <td>49.3</td>\n",
              "      <td>39</td>\n",
              "      <td>0</td>\n",
              "      <td>59</td>\n",
              "      <td>18</td>\n",
              "      <td>203</td>\n",
              "    </tr>\n",
              "    <tr>\n",
              "      <th>350896</th>\n",
              "      <td>1188</td>\n",
              "      <td>2017-07-10</td>\n",
              "      <td>Mahinda Rajapaksa International Cricket Stadiu...</td>\n",
              "      <td>Sri Lanka</td>\n",
              "      <td>Zimbabwe</td>\n",
              "      <td>DAS Gunaratne</td>\n",
              "      <td>TL Chatara</td>\n",
              "      <td>201</td>\n",
              "      <td>8</td>\n",
              "      <td>49.4</td>\n",
              "      <td>38</td>\n",
              "      <td>0</td>\n",
              "      <td>59</td>\n",
              "      <td>18</td>\n",
              "      <td>203</td>\n",
              "    </tr>\n",
              "    <tr>\n",
              "      <th>350897</th>\n",
              "      <td>1188</td>\n",
              "      <td>2017-07-10</td>\n",
              "      <td>Mahinda Rajapaksa International Cricket Stadiu...</td>\n",
              "      <td>Sri Lanka</td>\n",
              "      <td>Zimbabwe</td>\n",
              "      <td>DAS Gunaratne</td>\n",
              "      <td>TL Chatara</td>\n",
              "      <td>202</td>\n",
              "      <td>8</td>\n",
              "      <td>49.5</td>\n",
              "      <td>38</td>\n",
              "      <td>0</td>\n",
              "      <td>59</td>\n",
              "      <td>18</td>\n",
              "      <td>203</td>\n",
              "    </tr>\n",
              "    <tr>\n",
              "      <th>350898</th>\n",
              "      <td>1188</td>\n",
              "      <td>2017-07-10</td>\n",
              "      <td>Mahinda Rajapaksa International Cricket Stadiu...</td>\n",
              "      <td>Sri Lanka</td>\n",
              "      <td>Zimbabwe</td>\n",
              "      <td>PVD Chameera</td>\n",
              "      <td>TL Chatara</td>\n",
              "      <td>203</td>\n",
              "      <td>8</td>\n",
              "      <td>49.6</td>\n",
              "      <td>38</td>\n",
              "      <td>0</td>\n",
              "      <td>59</td>\n",
              "      <td>18</td>\n",
              "      <td>203</td>\n",
              "    </tr>\n",
              "  </tbody>\n",
              "</table>\n",
              "<p>350899 rows × 15 columns</p>\n",
              "</div>"
            ],
            "text/plain": [
              "         mid        date  ... non-striker total\n",
              "0          1  2006-06-13  ...           0   301\n",
              "1          1  2006-06-13  ...           0   301\n",
              "2          1  2006-06-13  ...           0   301\n",
              "3          1  2006-06-13  ...           0   301\n",
              "4          1  2006-06-13  ...           0   301\n",
              "...      ...         ...  ...         ...   ...\n",
              "350894  1188  2017-07-10  ...          18   203\n",
              "350895  1188  2017-07-10  ...          18   203\n",
              "350896  1188  2017-07-10  ...          18   203\n",
              "350897  1188  2017-07-10  ...          18   203\n",
              "350898  1188  2017-07-10  ...          18   203\n",
              "\n",
              "[350899 rows x 15 columns]"
            ]
          },
          "metadata": {
            "tags": []
          },
          "execution_count": 3
        }
      ]
    },
    {
      "cell_type": "code",
      "metadata": {
        "id": "i4OSdqhH7c2z",
        "colab_type": "code",
        "colab": {
          "base_uri": "https://localhost:8080/",
          "height": 195
        },
        "outputId": "f3c5a368-e018-4a6e-c0b2-355a29857335"
      },
      "source": [
        "df.head()"
      ],
      "execution_count": 4,
      "outputs": [
        {
          "output_type": "execute_result",
          "data": {
            "text/html": [
              "<div>\n",
              "<style scoped>\n",
              "    .dataframe tbody tr th:only-of-type {\n",
              "        vertical-align: middle;\n",
              "    }\n",
              "\n",
              "    .dataframe tbody tr th {\n",
              "        vertical-align: top;\n",
              "    }\n",
              "\n",
              "    .dataframe thead th {\n",
              "        text-align: right;\n",
              "    }\n",
              "</style>\n",
              "<table border=\"1\" class=\"dataframe\">\n",
              "  <thead>\n",
              "    <tr style=\"text-align: right;\">\n",
              "      <th></th>\n",
              "      <th>mid</th>\n",
              "      <th>date</th>\n",
              "      <th>venue</th>\n",
              "      <th>bat_team</th>\n",
              "      <th>bowl_team</th>\n",
              "      <th>batsman</th>\n",
              "      <th>bowler</th>\n",
              "      <th>runs</th>\n",
              "      <th>wickets</th>\n",
              "      <th>overs</th>\n",
              "      <th>runs_last_5</th>\n",
              "      <th>wickets_last_5</th>\n",
              "      <th>striker</th>\n",
              "      <th>non-striker</th>\n",
              "      <th>total</th>\n",
              "    </tr>\n",
              "  </thead>\n",
              "  <tbody>\n",
              "    <tr>\n",
              "      <th>0</th>\n",
              "      <td>1</td>\n",
              "      <td>2006-06-13</td>\n",
              "      <td>Civil Service Cricket Club, Stormont</td>\n",
              "      <td>England</td>\n",
              "      <td>Ireland</td>\n",
              "      <td>ME Trescothick</td>\n",
              "      <td>DT Johnston</td>\n",
              "      <td>0</td>\n",
              "      <td>0</td>\n",
              "      <td>0.1</td>\n",
              "      <td>0</td>\n",
              "      <td>0</td>\n",
              "      <td>0</td>\n",
              "      <td>0</td>\n",
              "      <td>301</td>\n",
              "    </tr>\n",
              "    <tr>\n",
              "      <th>1</th>\n",
              "      <td>1</td>\n",
              "      <td>2006-06-13</td>\n",
              "      <td>Civil Service Cricket Club, Stormont</td>\n",
              "      <td>England</td>\n",
              "      <td>Ireland</td>\n",
              "      <td>ME Trescothick</td>\n",
              "      <td>DT Johnston</td>\n",
              "      <td>0</td>\n",
              "      <td>0</td>\n",
              "      <td>0.2</td>\n",
              "      <td>0</td>\n",
              "      <td>0</td>\n",
              "      <td>0</td>\n",
              "      <td>0</td>\n",
              "      <td>301</td>\n",
              "    </tr>\n",
              "    <tr>\n",
              "      <th>2</th>\n",
              "      <td>1</td>\n",
              "      <td>2006-06-13</td>\n",
              "      <td>Civil Service Cricket Club, Stormont</td>\n",
              "      <td>England</td>\n",
              "      <td>Ireland</td>\n",
              "      <td>ME Trescothick</td>\n",
              "      <td>DT Johnston</td>\n",
              "      <td>4</td>\n",
              "      <td>0</td>\n",
              "      <td>0.3</td>\n",
              "      <td>4</td>\n",
              "      <td>0</td>\n",
              "      <td>0</td>\n",
              "      <td>0</td>\n",
              "      <td>301</td>\n",
              "    </tr>\n",
              "    <tr>\n",
              "      <th>3</th>\n",
              "      <td>1</td>\n",
              "      <td>2006-06-13</td>\n",
              "      <td>Civil Service Cricket Club, Stormont</td>\n",
              "      <td>England</td>\n",
              "      <td>Ireland</td>\n",
              "      <td>ME Trescothick</td>\n",
              "      <td>DT Johnston</td>\n",
              "      <td>6</td>\n",
              "      <td>0</td>\n",
              "      <td>0.4</td>\n",
              "      <td>6</td>\n",
              "      <td>0</td>\n",
              "      <td>0</td>\n",
              "      <td>0</td>\n",
              "      <td>301</td>\n",
              "    </tr>\n",
              "    <tr>\n",
              "      <th>4</th>\n",
              "      <td>1</td>\n",
              "      <td>2006-06-13</td>\n",
              "      <td>Civil Service Cricket Club, Stormont</td>\n",
              "      <td>England</td>\n",
              "      <td>Ireland</td>\n",
              "      <td>ME Trescothick</td>\n",
              "      <td>DT Johnston</td>\n",
              "      <td>6</td>\n",
              "      <td>0</td>\n",
              "      <td>0.5</td>\n",
              "      <td>6</td>\n",
              "      <td>0</td>\n",
              "      <td>0</td>\n",
              "      <td>0</td>\n",
              "      <td>301</td>\n",
              "    </tr>\n",
              "  </tbody>\n",
              "</table>\n",
              "</div>"
            ],
            "text/plain": [
              "   mid        date  ... non-striker total\n",
              "0    1  2006-06-13  ...           0   301\n",
              "1    1  2006-06-13  ...           0   301\n",
              "2    1  2006-06-13  ...           0   301\n",
              "3    1  2006-06-13  ...           0   301\n",
              "4    1  2006-06-13  ...           0   301\n",
              "\n",
              "[5 rows x 15 columns]"
            ]
          },
          "metadata": {
            "tags": []
          },
          "execution_count": 4
        }
      ]
    },
    {
      "cell_type": "code",
      "metadata": {
        "id": "EYDA7FLDBd22",
        "colab_type": "code",
        "colab": {
          "base_uri": "https://localhost:8080/",
          "height": 386
        },
        "outputId": "e572dc1b-23f0-4ee3-e935-0e2da7fe58df"
      },
      "source": [
        "df.info()"
      ],
      "execution_count": 5,
      "outputs": [
        {
          "output_type": "stream",
          "text": [
            "<class 'pandas.core.frame.DataFrame'>\n",
            "RangeIndex: 350899 entries, 0 to 350898\n",
            "Data columns (total 15 columns):\n",
            " #   Column          Non-Null Count   Dtype  \n",
            "---  ------          --------------   -----  \n",
            " 0   mid             350899 non-null  int64  \n",
            " 1   date            350899 non-null  object \n",
            " 2   venue           350899 non-null  object \n",
            " 3   bat_team        350899 non-null  object \n",
            " 4   bowl_team       350899 non-null  object \n",
            " 5   batsman         350899 non-null  object \n",
            " 6   bowler          350899 non-null  object \n",
            " 7   runs            350899 non-null  int64  \n",
            " 8   wickets         350899 non-null  int64  \n",
            " 9   overs           350899 non-null  float64\n",
            " 10  runs_last_5     350899 non-null  int64  \n",
            " 11  wickets_last_5  350899 non-null  int64  \n",
            " 12  striker         350899 non-null  int64  \n",
            " 13  non-striker     350899 non-null  int64  \n",
            " 14  total           350899 non-null  int64  \n",
            "dtypes: float64(1), int64(8), object(6)\n",
            "memory usage: 40.2+ MB\n"
          ],
          "name": "stdout"
        }
      ]
    },
    {
      "cell_type": "code",
      "metadata": {
        "id": "uxDF7Na67h5R",
        "colab_type": "code",
        "colab": {}
      },
      "source": [
        "X=df.drop([\"total\",'date'],axis=1)"
      ],
      "execution_count": 6,
      "outputs": []
    },
    {
      "cell_type": "code",
      "metadata": {
        "id": "I9EicNE6-vZ2",
        "colab_type": "code",
        "colab": {}
      },
      "source": [
        "y=df[\"total\"]"
      ],
      "execution_count": 7,
      "outputs": []
    },
    {
      "cell_type": "code",
      "metadata": {
        "id": "IojL3K3_-yCe",
        "colab_type": "code",
        "colab": {}
      },
      "source": [
        "from sklearn.preprocessing import LabelEncoder\n"
      ],
      "execution_count": 8,
      "outputs": []
    },
    {
      "cell_type": "code",
      "metadata": {
        "id": "0tM4mbHv_H-l",
        "colab_type": "code",
        "colab": {}
      },
      "source": [
        "label=LabelEncoder()\n"
      ],
      "execution_count": 9,
      "outputs": []
    },
    {
      "cell_type": "code",
      "metadata": {
        "id": "BnTzdaDO_LGg",
        "colab_type": "code",
        "colab": {}
      },
      "source": [
        "X[\"bat_team\"]=label.fit_transform(X[\"bat_team\"])"
      ],
      "execution_count": 10,
      "outputs": []
    },
    {
      "cell_type": "code",
      "metadata": {
        "id": "IbxOv5ULArvH",
        "colab_type": "code",
        "colab": {}
      },
      "source": [
        "X[\"bowl_team\"]=label.fit_transform(X[\"bowl_team\"])\n",
        "X[\"batsman\"]=label.fit_transform(X[\"batsman\"])\n",
        "X[\"bowler\"]=label.fit_transform(X[\"bowler\"])"
      ],
      "execution_count": 11,
      "outputs": []
    },
    {
      "cell_type": "code",
      "metadata": {
        "id": "H0O_TSo7BMhj",
        "colab_type": "code",
        "colab": {}
      },
      "source": [
        "X[\"venue\"]=label.fit_transform(X[\"venue\"])"
      ],
      "execution_count": 12,
      "outputs": []
    },
    {
      "cell_type": "code",
      "metadata": {
        "id": "ntZBQwmu_NuR",
        "colab_type": "code",
        "colab": {}
      },
      "source": [
        "from sklearn.model_selection import train_test_split"
      ],
      "execution_count": 13,
      "outputs": []
    },
    {
      "cell_type": "code",
      "metadata": {
        "id": "OujmyRQh_RSq",
        "colab_type": "code",
        "colab": {}
      },
      "source": [
        "X_train,X_test,y_train,y_test=train_test_split(X,y,test_size=0.3)"
      ],
      "execution_count": 14,
      "outputs": []
    },
    {
      "cell_type": "code",
      "metadata": {
        "id": "NDGR4g0r_X7P",
        "colab_type": "code",
        "colab": {}
      },
      "source": [
        "from sklearn.tree import DecisionTreeRegressor"
      ],
      "execution_count": 15,
      "outputs": []
    },
    {
      "cell_type": "code",
      "metadata": {
        "id": "ghRVSvyJ_aiO",
        "colab_type": "code",
        "colab": {}
      },
      "source": [
        "tree=DecisionTreeRegressor()"
      ],
      "execution_count": 16,
      "outputs": []
    },
    {
      "cell_type": "code",
      "metadata": {
        "id": "Ws2zPl1y_crR",
        "colab_type": "code",
        "colab": {
          "base_uri": "https://localhost:8080/",
          "height": 118
        },
        "outputId": "27ac8908-3770-4587-e0b5-779549aac2e6"
      },
      "source": [
        "tree.fit(X_train,y_train)"
      ],
      "execution_count": 17,
      "outputs": [
        {
          "output_type": "execute_result",
          "data": {
            "text/plain": [
              "DecisionTreeRegressor(ccp_alpha=0.0, criterion='mse', max_depth=None,\n",
              "                      max_features=None, max_leaf_nodes=None,\n",
              "                      min_impurity_decrease=0.0, min_impurity_split=None,\n",
              "                      min_samples_leaf=1, min_samples_split=2,\n",
              "                      min_weight_fraction_leaf=0.0, presort='deprecated',\n",
              "                      random_state=None, splitter='best')"
            ]
          },
          "metadata": {
            "tags": []
          },
          "execution_count": 17
        }
      ]
    },
    {
      "cell_type": "code",
      "metadata": {
        "id": "Lv7EP0Rc_g3N",
        "colab_type": "code",
        "colab": {
          "base_uri": "https://localhost:8080/",
          "height": 34
        },
        "outputId": "9579b748-aa5b-48c5-ed20-ab589b8b61db"
      },
      "source": [
        "tree.score(X_test,y_test)"
      ],
      "execution_count": 18,
      "outputs": [
        {
          "output_type": "execute_result",
          "data": {
            "text/plain": [
              "0.9627534779217821"
            ]
          },
          "metadata": {
            "tags": []
          },
          "execution_count": 18
        }
      ]
    },
    {
      "cell_type": "code",
      "metadata": {
        "id": "Lm6YwKS1AJQV",
        "colab_type": "code",
        "colab": {}
      },
      "source": [
        ""
      ],
      "execution_count": 18,
      "outputs": []
    }
  ]
}